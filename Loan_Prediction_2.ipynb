{
  "nbformat": 4,
  "nbformat_minor": 0,
  "metadata": {
    "colab": {
      "provenance": [],
      "authorship_tag": "ABX9TyPjREyci9zaiMIZaKunXfc0",
      "include_colab_link": true
    },
    "kernelspec": {
      "name": "python3",
      "display_name": "Python 3"
    },
    "language_info": {
      "name": "python"
    }
  },
  "cells": [
    {
      "cell_type": "markdown",
      "metadata": {
        "id": "view-in-github",
        "colab_type": "text"
      },
      "source": [
        "<a href=\"https://colab.research.google.com/github/zar373/Loan_Prediction/blob/main/Loan_Prediction_2.ipynb\" target=\"_parent\"><img src=\"https://colab.research.google.com/assets/colab-badge.svg\" alt=\"Open In Colab\"/></a>"
      ]
    },
    {
      "cell_type": "code",
      "execution_count": null,
      "metadata": {
        "id": "b0QBnCqRvlch"
      },
      "outputs": [],
      "source": [
        "import pandas as pd\n",
        "import seaborn as sns\n",
        "import matplotlib.pyplot as plt\n",
        "from sklearn.model_selection import train_test_split\n",
        "from sklearn.linear_model import LogisticRegression\n",
        "from sklearn import metrics\n",
        "from sklearn.model_selection import StratifiedKFold"
      ]
    },
    {
      "cell_type": "code",
      "source": [
        "trainm= pd.read_csv('/content/sample_data/train_modified.csv')\n",
        "testm= pd.read_csv('/content/sample_data/test_modified.csv')"
      ],
      "metadata": {
        "id": "tSRzNbntw5ev"
      },
      "execution_count": null,
      "outputs": []
    },
    {
      "cell_type": "code",
      "source": [
        "trainm.drop('Unnamed: 0',axis=1,inplace=True)\n",
        "testm.drop('Unnamed: 0',axis=1,inplace=True)"
      ],
      "metadata": {
        "id": "S5eAnJMwxFp4"
      },
      "execution_count": null,
      "outputs": []
    },
    {
      "cell_type": "code",
      "source": [
        "trainm.columns"
      ],
      "metadata": {
        "colab": {
          "base_uri": "https://localhost:8080/"
        },
        "id": "MOtDNcmKxRct",
        "outputId": "80bf86ad-5e89-4842-c6e1-8cab47dafad8"
      },
      "execution_count": null,
      "outputs": [
        {
          "output_type": "execute_result",
          "data": {
            "text/plain": [
              "Index(['Credit_History', 'Loan_Status', 'logLoanAmount', 'Gender_Female',\n",
              "       'Gender_Male', 'Married_No', 'Married_Yes', 'Dependents_3',\n",
              "       'Dependents_0', 'Dependents_1', 'Dependents_2', 'Education_Graduate',\n",
              "       'Education_Not Graduate', 'Self_Employed_No', 'Self_Employed_Yes',\n",
              "       'Property_Area_Rural', 'Property_Area_Semiurban', 'Property_Area_Urban',\n",
              "       'Total_Income', 'logTotalIncome', 'EMI', 'Balance_Income'],\n",
              "      dtype='object')"
            ]
          },
          "metadata": {},
          "execution_count": 9
        }
      ]
    },
    {
      "cell_type": "code",
      "source": [
        "X= trainm.drop('Loan_Status', axis= 1)\n",
        "y= trainm.Loan_Status"
      ],
      "metadata": {
        "id": "schzTtW_xVcb"
      },
      "execution_count": null,
      "outputs": []
    },
    {
      "cell_type": "code",
      "source": [
        "X_train, X_test, y_train, y_test = train_test_split(X, y, test_size= 0.3)"
      ],
      "metadata": {
        "id": "s2N2poUKxmOq"
      },
      "execution_count": null,
      "outputs": []
    },
    {
      "cell_type": "code",
      "source": [
        "i= 1\n",
        "kf= StratifiedKFold(n_splits= 5, random_state=1, shuffle= True)\n",
        "for train_index, test_index in kf.split(X, y):\n",
        "  print('\\n{}  of kfold{}'.format(i, kf.n_splits))\n",
        "  xtr, xvl= X.loc[train_index], X.loc[test_index]\n",
        "  ytr, yvl= y[train_index], y[test_index]\n",
        "\n",
        "  LogReg= LogisticRegression(random_state=1, max_iter= 200)\n",
        "  LogReg.fit(xtr, ytr)\n",
        "  pred_test= LogReg.predict(xvl)\n",
        "  score= metrics.accuracy_score(yvl, pred_test)\n",
        "  print('accuracy score', score)\n",
        "  i +=1\n",
        "  pred_test= LogReg.predict(testm)\n",
        "\n"
      ],
      "metadata": {
        "colab": {
          "base_uri": "https://localhost:8080/"
        },
        "id": "xnoEd19Qxq06",
        "outputId": "69be1f20-39da-4d45-c812-a2edf62f3997"
      },
      "execution_count": null,
      "outputs": [
        {
          "output_type": "stream",
          "name": "stdout",
          "text": [
            "\n",
            "1  of kfold5\n",
            "accuracy score 0.7967479674796748\n",
            "\n",
            "2  of kfold5\n",
            "accuracy score 0.8373983739837398\n",
            "\n",
            "3  of kfold5\n",
            "accuracy score 0.6666666666666666\n",
            "\n",
            "4  of kfold5\n",
            "accuracy score 0.7804878048780488\n",
            "\n",
            "5  of kfold5\n",
            "accuracy score 0.7950819672131147\n"
          ]
        }
      ]
    },
    {
      "cell_type": "code",
      "source": [
        "from sklearn import tree\n",
        "\n",
        "i= 1\n",
        "kf= StratifiedKFold(n_splits= 5, random_state= 1, shuffle= True)\n",
        "for train_index, test_index in kf.split(X, y):\n",
        "  print(\"\\n{} of fold {}\".format(i, kf.n_splits))\n",
        "  xtr, xvl= X.loc[train_index], X.loc[test_index]\n",
        "  ytr, yvl= y[train_index], y[test_index]\n",
        "\n",
        "  DecTre= tree.DecisionTreeClassifier(random_state= 1)\n",
        "  DecTre.fit(xtr, ytr)\n",
        "  pred_test= DecTre.predict(xvl)\n",
        "  score= metrics.accuracy_score(yvl, pred_test)\n",
        "  print('accuracy score', score)\n",
        "  i +=1\n",
        "  pred_test= DecTre.predict(testm)\n",
        "  # print(pred_test)\n"
      ],
      "metadata": {
        "colab": {
          "base_uri": "https://localhost:8080/"
        },
        "id": "mqZ1xbU2yAYI",
        "outputId": "096f9bf7-ec71-4411-abdc-1f35f9a787a1"
      },
      "execution_count": null,
      "outputs": [
        {
          "output_type": "stream",
          "name": "stdout",
          "text": [
            "\n",
            "1 of fold 5\n",
            "accuracy score 0.7723577235772358\n",
            "[1 1 1 1 1 0 1 0 1 1 1 0 1 1 1 1 1 1 0 1 1 0 1 1 1 0 1 1 1 0 1 1 1 1 1 1 1\n",
            " 0 1 1 0 1 1 1 0 0 0 1 1 0 1 1 1 1 0 0 1 1 1 0 1 1 1 0 1 1 0 0 1 0 1 0 0 0\n",
            " 0 1 0 1 1 0 1 1 0 0 0 1 1 1 1 1 1 0 0 1 0 1 0 1 1 1 1 0 1 1 1 1 0 1 1 0 1\n",
            " 1 1 1 0 1 1 0 0 0 0 1 1 0 0 1 0 1 1 1 1 0 1 1 1 1 1 1 1 1 0 1 0 1 0 1 1 0\n",
            " 1 1 0 1 1 0 1 1 1 1 1 0 0 0 1 0 1 1 0 1 0 1 1 0 1 0 0 1 0 0 1 1 0 0 1 1 1\n",
            " 1 0 1 1 1 0 1 0 0 1 1 0 1 0 1 1 1 1 1 1 1 1 1 1 1 1 0 1 1 1 0 1 1 1 1 1 1\n",
            " 0 1 0 1 1 1 1 0 1 1 1 1 1 1 0 1 1 0 1 0 1 0 1 0 1 1 0 1 0 1 1 1 1 0 1 0 1\n",
            " 1 1 1 1 0 0 1 0 1 0 1 1 0 0 0 0 1 0 1 1 1 1 1 1 1 1 1 0 0 1 1 1 1 1 0 1 0\n",
            " 0 1 1 0 1 0 0 1 1 0 1 1 1 1 1 0 1 1 0 1 1 0 1 1 0 0 1 1 0 0 1 1 1 1 1 1 1\n",
            " 1 1 0 1 1 0 0 1 1 1 1 1 1 0 1 1 0 1 1 0 1 0 1 1 1 1 0 0 1 0 1 1 0 0]\n",
            "\n",
            "2 of fold 5\n",
            "accuracy score 0.7235772357723578\n",
            "[0 1 1 1 0 1 1 0 1 1 1 1 1 1 1 1 0 1 1 1 0 0 1 1 0 1 0 1 1 1 0 1 1 1 1 0 1\n",
            " 1 1 1 0 1 1 0 1 1 1 1 1 1 1 1 1 0 0 1 1 1 1 1 1 1 1 0 1 1 0 0 1 0 1 0 0 1\n",
            " 1 1 1 1 1 1 1 1 0 1 0 1 0 1 1 1 1 1 1 1 0 1 0 1 0 1 1 0 1 1 1 1 0 1 1 1 1\n",
            " 1 1 1 0 1 1 0 0 0 0 1 1 0 0 1 0 0 1 1 1 0 1 1 1 1 0 1 1 1 1 0 0 0 1 1 0 0\n",
            " 1 1 1 1 1 0 1 0 1 1 1 0 0 0 1 0 1 0 0 1 0 0 1 0 1 0 0 0 1 0 1 1 1 1 1 1 1\n",
            " 1 0 1 1 1 1 1 1 0 1 1 0 1 0 0 0 1 1 1 1 1 1 1 1 1 0 0 0 1 1 1 1 0 1 1 1 1\n",
            " 0 1 0 0 1 1 1 0 1 1 0 1 0 0 0 1 1 0 1 0 1 0 1 0 0 1 1 1 0 1 1 1 0 0 0 0 1\n",
            " 1 1 1 1 1 1 1 0 0 0 0 0 0 1 0 0 1 1 1 1 1 1 1 1 0 0 0 0 1 1 1 0 1 0 0 1 1\n",
            " 1 1 1 1 1 0 0 0 1 1 0 1 1 1 1 1 1 1 1 0 1 0 1 1 1 0 0 1 0 0 1 1 0 1 1 0 1\n",
            " 1 1 1 1 1 1 0 1 1 0 1 1 1 0 1 1 0 1 0 0 1 0 1 1 1 1 0 1 1 1 1 1 0 0]\n",
            "\n",
            "3 of fold 5\n",
            "accuracy score 0.7073170731707317\n",
            "[1 0 1 0 0 1 1 0 1 1 1 0 1 1 1 1 1 0 1 1 1 1 1 1 1 1 1 0 1 1 1 1 1 1 1 0 1\n",
            " 1 1 1 0 1 1 1 1 1 0 1 1 0 1 1 1 0 1 1 1 1 0 1 1 1 1 0 1 1 0 1 1 0 1 0 1 1\n",
            " 1 0 1 0 1 1 1 0 0 0 0 1 1 1 1 1 1 1 1 1 0 1 0 0 1 1 1 0 1 1 1 1 0 1 1 0 0\n",
            " 1 1 1 0 0 1 0 0 0 0 1 1 0 0 1 0 1 1 1 1 1 0 0 0 1 1 1 1 1 0 1 0 0 1 1 1 0\n",
            " 1 1 0 1 1 0 0 1 1 0 0 0 0 0 1 0 1 0 0 1 0 1 1 1 1 0 0 0 1 0 1 1 1 1 1 0 1\n",
            " 1 1 1 0 1 0 1 0 0 1 1 0 1 0 1 1 1 1 1 1 1 1 1 1 1 0 0 1 1 0 0 1 1 1 0 1 1\n",
            " 1 1 0 1 1 1 1 0 1 1 1 1 1 0 0 0 1 1 1 0 1 0 1 0 1 1 0 1 0 1 1 1 0 0 1 0 0\n",
            " 1 0 1 1 0 0 1 0 0 0 1 1 0 0 1 0 1 1 1 0 1 1 1 1 0 0 1 1 1 1 1 0 1 1 0 1 1\n",
            " 1 0 1 1 0 0 1 1 1 0 1 1 1 1 1 0 0 1 0 1 1 0 1 1 1 0 1 1 1 0 1 1 1 1 1 1 1\n",
            " 1 1 1 1 1 1 0 1 0 0 0 0 1 0 1 1 0 1 1 0 1 0 1 1 1 1 0 1 1 1 1 1 0 1]\n",
            "\n",
            "4 of fold 5\n",
            "accuracy score 0.7235772357723578\n",
            "[1 1 1 0 0 1 1 0 1 1 0 1 1 1 1 1 1 1 1 1 1 1 1 1 0 0 1 0 1 1 0 1 1 1 1 0 1\n",
            " 1 1 1 1 1 1 1 1 0 0 1 1 1 1 1 1 0 1 1 0 1 0 0 1 1 1 0 1 1 0 1 1 0 1 1 1 1\n",
            " 1 1 1 1 1 0 1 1 0 0 0 1 1 1 1 1 1 1 0 1 0 1 1 1 1 1 1 0 1 1 1 0 0 1 1 1 1\n",
            " 1 1 1 1 0 0 0 0 0 1 1 1 0 0 1 0 1 0 0 1 0 1 1 1 1 1 1 1 1 0 1 0 1 1 1 1 0\n",
            " 1 1 1 0 1 0 1 1 1 0 1 1 0 0 1 1 1 1 0 1 0 1 1 0 1 0 0 1 0 1 1 1 1 1 1 1 1\n",
            " 1 1 1 1 1 1 1 0 0 1 1 0 1 0 1 0 0 1 1 1 1 1 1 1 0 0 0 0 1 1 0 0 0 1 1 1 1\n",
            " 0 1 0 1 1 1 1 0 1 1 1 1 1 0 0 0 1 1 1 0 1 0 1 0 1 1 1 1 0 1 1 1 0 0 1 1 1\n",
            " 1 1 1 1 1 0 1 0 0 0 0 1 0 0 1 0 1 1 1 0 1 1 1 1 0 0 1 0 1 1 1 0 1 0 0 1 1\n",
            " 1 0 1 1 1 0 1 1 1 0 1 1 1 1 1 0 1 1 1 1 1 0 1 1 1 0 1 1 1 1 1 1 1 1 1 1 0\n",
            " 1 1 0 0 1 1 1 1 1 0 0 0 1 0 0 0 1 1 0 0 1 0 1 1 1 0 1 0 1 1 1 1 1 1]\n",
            "\n",
            "5 of fold 5\n",
            "accuracy score 0.6721311475409836\n",
            "[1 1 0 0 0 1 1 0 1 1 0 1 1 0 1 1 0 1 1 0 1 0 1 1 1 1 1 1 1 0 1 1 1 1 1 0 1\n",
            " 1 1 1 0 1 1 0 1 1 1 1 0 1 1 1 1 1 1 1 1 0 0 1 1 1 0 0 1 1 0 1 0 0 1 1 1 0\n",
            " 0 1 1 1 1 0 0 1 0 1 0 1 1 0 1 0 1 0 1 1 0 1 0 1 1 1 1 0 0 0 1 1 0 1 1 1 1\n",
            " 1 1 1 1 1 1 0 0 0 1 1 1 0 0 1 0 0 1 1 0 0 0 1 1 1 1 1 1 1 0 1 0 0 0 1 0 0\n",
            " 1 1 0 1 1 0 0 1 1 0 0 1 1 0 1 1 0 0 0 0 0 0 1 1 1 0 0 1 1 1 1 1 1 1 1 0 1\n",
            " 1 1 1 1 0 1 1 0 0 1 1 0 1 0 0 1 1 1 1 1 1 0 1 1 1 0 0 1 1 1 1 1 0 1 1 1 1\n",
            " 1 0 0 1 1 1 1 0 1 1 1 1 0 0 0 0 1 1 1 0 1 0 1 0 1 1 1 1 0 1 1 1 1 0 1 1 1\n",
            " 1 1 1 1 0 1 1 0 0 0 0 0 0 0 1 0 1 1 0 0 1 1 1 1 1 1 1 1 1 1 1 1 0 0 0 1 1\n",
            " 1 1 1 1 1 0 1 0 1 1 0 1 1 1 1 0 1 1 1 0 1 0 1 1 1 0 1 0 0 0 1 1 1 1 1 1 1\n",
            " 1 1 1 1 1 1 1 1 1 0 0 1 1 0 1 1 1 1 1 0 1 0 1 1 1 1 1 1 1 1 0 1 1 1]\n"
          ]
        }
      ]
    },
    {
      "cell_type": "code",
      "source": [
        "import joblib"
      ],
      "metadata": {
        "id": "mjUeqpe6yF-Q"
      },
      "execution_count": null,
      "outputs": []
    },
    {
      "cell_type": "code",
      "source": [
        "joblib.dump(LogReg, \"LogReg.joblib\")\n",
        "joblib.dump(DecTre, \"DecTre.joblib\")"
      ],
      "metadata": {
        "colab": {
          "base_uri": "https://localhost:8080/"
        },
        "id": "IFHyzIe0yJRP",
        "outputId": "a409b126-4013-40b4-f4c3-4f5d9ab11894"
      },
      "execution_count": null,
      "outputs": [
        {
          "output_type": "execute_result",
          "data": {
            "text/plain": [
              "['DecTre.joblib']"
            ]
          },
          "metadata": {},
          "execution_count": 25
        }
      ]
    },
    {
      "cell_type": "code",
      "source": [
        "X.columns"
      ],
      "metadata": {
        "id": "opBmku5vzL8J",
        "outputId": "f941c1b6-063e-4bd1-a25a-6889b131a1c0",
        "colab": {
          "base_uri": "https://localhost:8080/"
        }
      },
      "execution_count": null,
      "outputs": [
        {
          "output_type": "execute_result",
          "data": {
            "text/plain": [
              "Index(['Credit_History', 'logLoanAmount', 'Gender_Female', 'Gender_Male',\n",
              "       'Married_No', 'Married_Yes', 'Dependents_3', 'Dependents_0',\n",
              "       'Dependents_1', 'Dependents_2', 'Education_Graduate',\n",
              "       'Education_Not Graduate', 'Self_Employed_No', 'Self_Employed_Yes',\n",
              "       'Property_Area_Rural', 'Property_Area_Semiurban', 'Property_Area_Urban',\n",
              "       'Total_Income', 'logTotalIncome', 'EMI', 'Balance_Income'],\n",
              "      dtype='object')"
            ]
          },
          "metadata": {},
          "execution_count": 26
        }
      ]
    }
  ]
}