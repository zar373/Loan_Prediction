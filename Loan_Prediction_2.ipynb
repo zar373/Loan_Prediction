{
  "nbformat": 4,
  "nbformat_minor": 0,
  "metadata": {
    "colab": {
      "provenance": [],
      "authorship_tag": "ABX9TyMVB3VTYSmjeEn6pxhTyWLL",
      "include_colab_link": true
    },
    "kernelspec": {
      "name": "python3",
      "display_name": "Python 3"
    },
    "language_info": {
      "name": "python"
    }
  },
  "cells": [
    {
      "cell_type": "markdown",
      "metadata": {
        "id": "view-in-github",
        "colab_type": "text"
      },
      "source": [
        "<a href=\"https://colab.research.google.com/github/zar373/Loan_Prediction/blob/main/Loan_Prediction_2.ipynb\" target=\"_parent\"><img src=\"https://colab.research.google.com/assets/colab-badge.svg\" alt=\"Open In Colab\"/></a>"
      ]
    },
    {
      "cell_type": "code",
      "execution_count": 56,
      "metadata": {
        "id": "b0QBnCqRvlch"
      },
      "outputs": [],
      "source": [
        "import numpy as np\n",
        "import pandas as pd\n",
        "import seaborn as sns\n",
        "import matplotlib.pyplot as plt\n",
        "from sklearn.model_selection import train_test_split\n",
        "from sklearn.linear_model import LogisticRegression\n",
        "from sklearn import metrics\n",
        "from sklearn.model_selection import StratifiedKFold\n",
        "from sklearn.ensemble import RandomForestClassifier"
      ]
    },
    {
      "cell_type": "code",
      "source": [
        "# from google.colab import drive\n",
        "# drive.mount('/content/drive')"
      ],
      "metadata": {
        "id": "E01IbUZEoqNU"
      },
      "execution_count": 57,
      "outputs": []
    },
    {
      "cell_type": "code",
      "source": [
        "trainm= pd.read_csv('/content/sample_data/train_modified.csv')\n",
        "testm= pd.read_csv('/content/sample_data/test_modified.csv')"
      ],
      "metadata": {
        "id": "tSRzNbntw5ev"
      },
      "execution_count": 58,
      "outputs": []
    },
    {
      "cell_type": "code",
      "source": [
        "trainm.drop('Unnamed: 0',axis=1,inplace=True)\n",
        "testm.drop('Unnamed: 0',axis=1,inplace=True)"
      ],
      "metadata": {
        "id": "S5eAnJMwxFp4"
      },
      "execution_count": 59,
      "outputs": []
    },
    {
      "cell_type": "code",
      "source": [
        "model_acc=[]\n",
        "\n",
        "trainm.columns"
      ],
      "metadata": {
        "colab": {
          "base_uri": "https://localhost:8080/"
        },
        "id": "MOtDNcmKxRct",
        "outputId": "b601e5fd-2ad6-4464-8bbd-77158c57d015"
      },
      "execution_count": 60,
      "outputs": [
        {
          "output_type": "execute_result",
          "data": {
            "text/plain": [
              "Index(['Credit_History', 'Loan_Status', 'logLoanAmount', 'Gender_Female',\n",
              "       'Gender_Male', 'Married_No', 'Married_Yes', 'Dependents_3',\n",
              "       'Dependents_0', 'Dependents_1', 'Dependents_2', 'Education_Graduate',\n",
              "       'Education_Not Graduate', 'Self_Employed_No', 'Self_Employed_Yes',\n",
              "       'Property_Area_Rural', 'Property_Area_Semiurban', 'Property_Area_Urban',\n",
              "       'Total_Income', 'logTotalIncome', 'EMI', 'Balance_Income'],\n",
              "      dtype='object')"
            ]
          },
          "metadata": {},
          "execution_count": 60
        }
      ]
    },
    {
      "cell_type": "code",
      "source": [
        "X= trainm.drop('Loan_Status', axis= 1)\n",
        "y= trainm.Loan_Status"
      ],
      "metadata": {
        "id": "schzTtW_xVcb"
      },
      "execution_count": 61,
      "outputs": []
    },
    {
      "cell_type": "code",
      "source": [
        "X_train, X_test, y_train, y_test = train_test_split(X, y, test_size= 0.3)"
      ],
      "metadata": {
        "id": "s2N2poUKxmOq"
      },
      "execution_count": 62,
      "outputs": []
    },
    {
      "cell_type": "code",
      "source": [
        "i= 1\n",
        "LogReg_acc= []\n",
        "kf= StratifiedKFold(n_splits= 5, random_state=1, shuffle= True)\n",
        "for train_index, test_index in kf.split(X, y):\n",
        "  print('\\n{}  of kfold{}'.format(i, kf.n_splits))\n",
        "  xtr, xvl= X.loc[train_index], X.loc[test_index]\n",
        "  ytr, yvl= y[train_index], y[test_index]\n",
        "\n",
        "  LogReg= LogisticRegression(random_state=1, max_iter= 200)\n",
        "  LogReg.fit(xtr, ytr)\n",
        "  pred_test= LogReg.predict(xvl)\n",
        "  score= metrics.accuracy_score(yvl, pred_test)\n",
        "  LogReg_acc.append(score)\n",
        "  print('accuracy score', score)\n",
        "  i +=1\n",
        "  pred_test= LogReg.predict(testm)\n",
        "\n",
        "LogReg_acc= np.array(LogReg_acc)\n",
        "LogReg_accm= LogReg_acc.mean()\n",
        "model_acc.append(LogReg_accm)\n",
        "print(LogReg_accm)"
      ],
      "metadata": {
        "colab": {
          "base_uri": "https://localhost:8080/"
        },
        "id": "xnoEd19Qxq06",
        "outputId": "069e04dc-99d3-4827-af50-ea638d70359b"
      },
      "execution_count": 63,
      "outputs": [
        {
          "output_type": "stream",
          "name": "stdout",
          "text": [
            "\n",
            "1  of kfold5\n",
            "accuracy score 0.7967479674796748\n",
            "\n",
            "2  of kfold5\n",
            "accuracy score 0.8373983739837398\n",
            "\n",
            "3  of kfold5\n",
            "accuracy score 0.6666666666666666\n",
            "\n",
            "4  of kfold5\n",
            "accuracy score 0.7804878048780488\n",
            "\n",
            "5  of kfold5\n",
            "accuracy score 0.7950819672131147\n",
            "0.7752765560442489\n"
          ]
        }
      ]
    },
    {
      "cell_type": "code",
      "source": [
        "from sklearn import tree\n",
        "\n",
        "i= 1\n",
        "DecTre_acc= []\n",
        "kf= StratifiedKFold(n_splits= 5, random_state= 1, shuffle= True)\n",
        "for train_index, test_index in kf.split(X, y):\n",
        "  print(\"\\n{} of fold {}\".format(i, kf.n_splits))\n",
        "  xtr, xvl= X.loc[train_index], X.loc[test_index]\n",
        "  ytr, yvl= y[train_index], y[test_index]\n",
        "\n",
        "  DecTre= tree.DecisionTreeClassifier(random_state= 1)\n",
        "  DecTre.fit(xtr, ytr)\n",
        "  pred_test= DecTre.predict(xvl)\n",
        "  score= metrics.accuracy_score(yvl, pred_test)\n",
        "  DecTre_acc.append(score)\n",
        "  print('accuracy score', score)\n",
        "  i +=1\n",
        "  pred_test= DecTre.predict(testm)\n",
        "  # print(pred_test)\n",
        "\n",
        "DecTre_acc= np.array(DecTre_acc)\n",
        "DecTre_accm= DecTre_acc.mean()\n",
        "model_acc.append(DecTre_accm)\n",
        "print(DecTre_accm)"
      ],
      "metadata": {
        "colab": {
          "base_uri": "https://localhost:8080/"
        },
        "id": "mqZ1xbU2yAYI",
        "outputId": "07699011-4308-4615-9838-bfb49324b72b"
      },
      "execution_count": 64,
      "outputs": [
        {
          "output_type": "stream",
          "name": "stdout",
          "text": [
            "\n",
            "1 of fold 5\n",
            "accuracy score 0.7723577235772358\n",
            "\n",
            "2 of fold 5\n",
            "accuracy score 0.7235772357723578\n",
            "\n",
            "3 of fold 5\n",
            "accuracy score 0.7073170731707317\n",
            "\n",
            "4 of fold 5\n",
            "accuracy score 0.7235772357723578\n",
            "\n",
            "5 of fold 5\n",
            "accuracy score 0.6721311475409836\n",
            "0.7197920831667333\n"
          ]
        }
      ]
    },
    {
      "cell_type": "markdown",
      "source": [
        "##Random Forest Claasifier"
      ],
      "metadata": {
        "id": "dLF0muqNdzQk"
      }
    },
    {
      "cell_type": "code",
      "source": [
        "i=1\n",
        "for train_index, test_index in kf.split(X,y):\n",
        "  kf = StratifiedKFold(n_splits= 5, random_state= 1, shuffle= True)\n",
        "  print('/n{} of fold{}'.format(i, kf.n_splits))\n",
        "  xtr, xvl= X.loc[train_index], X.loc[test_index]\n",
        "  ytr, yvl= y[train_index], y[test_index]\n",
        "  RandFor= RandomForestClassifier(random_state= 1)\n",
        "  RandFor.fit(xtr, ytr)\n",
        "  pred_test_Rand= RandFor.predict(xvl)\n",
        "  score= metrics.accuracy_score(yvl, pred_test_Rand)\n",
        "  print('accuracy score', score)\n",
        "  i+=1\n",
        "\n",
        "pred_test= RandFor.predict(testm)\n",
        "unique_val, count= np.unique(pred_test, return_counts=True)\n",
        "print(f\"the value is {unique_val[0]} and it's count is {count[0]}\")\n",
        "print(f\"the value is {unique_val[1]} and it's count is {count[1]}\")"
      ],
      "metadata": {
        "id": "opBmku5vzL8J",
        "outputId": "ecd5875b-3123-4678-dece-4774a355c4b0",
        "colab": {
          "base_uri": "https://localhost:8080/"
        }
      },
      "execution_count": 67,
      "outputs": [
        {
          "output_type": "stream",
          "name": "stdout",
          "text": [
            "/n1 of fold5\n",
            "accuracy score 0.8292682926829268\n",
            "/n2 of fold5\n",
            "accuracy score 0.7886178861788617\n",
            "/n3 of fold5\n",
            "accuracy score 0.7886178861788617\n",
            "/n4 of fold5\n",
            "accuracy score 0.8130081300813008\n",
            "/n5 of fold5\n",
            "accuracy score 0.7540983606557377\n",
            "the value is 0 and it's count is 80\n",
            "the value is 1 and it's count is 287\n"
          ]
        }
      ]
    },
    {
      "cell_type": "markdown",
      "source": [
        "##Tuning Parameters with GridSearchCV"
      ],
      "metadata": {
        "id": "zrqYTZYrf2gt"
      }
    },
    {
      "cell_type": "code",
      "source": [
        "from sklearn.model_selection import GridSearchCV\n",
        "\"\"\"\n",
        "max depth= maximum depth of the tree\n",
        "n_estimators= number of trees in the forest\n",
        "cv= no of folds.\n",
        "refit= accuracy is optimized\n",
        "f1_macro is monitered\n",
        "\"\"\"\n",
        "\n",
        "paramgrid= {\n",
        "    'max_depth': list(range(1, 20, 2)),\n",
        "    'n_estimators': list(range(1, 100, 20))\n",
        "}\n",
        "\n",
        "grid_search= GridSearchCV(RandomForestClassifier(random_state= 1), paramgrid, cv= 5, scoring=['f1_macro', 'accuracy'], refit= 'accuracy')\n",
        "\n",
        "# X_train, X_cv, y_train, y_cv= train_test_split(X, y, test_size= 0.3, random_state= 1)\n",
        "\n",
        "grid_search.fit(X_train, y_train)\n",
        "\n",
        "print(grid_search.best_params_)\n",
        "print(grid_search.best_score_)"
      ],
      "metadata": {
        "id": "M8iSZ8QZgEHw",
        "outputId": "d0def3c4-ff1a-42dc-8ca2-338d042f4f8d",
        "colab": {
          "base_uri": "https://localhost:8080/"
        }
      },
      "execution_count": 68,
      "outputs": [
        {
          "output_type": "stream",
          "name": "stdout",
          "text": [
            "{'max_depth': 7, 'n_estimators': 41}\n",
            "0.7904240766073871\n"
          ]
        }
      ]
    },
    {
      "cell_type": "markdown",
      "source": [
        "##More Precise Tunning of Random Forest Hyperparameters"
      ],
      "metadata": {
        "id": "Ie2Ab1I_nP0m"
      }
    },
    {
      "cell_type": "code",
      "source": [
        "grid_search1= GridSearchCV(\n",
        "    estimator=RandomForestClassifier(bootstrap= True, class_weight= None, criterion= 'entropy',\n",
        "                                     max_depth= None, max_features= 'log2', max_leaf_nodes= None,\n",
        "                                     min_impurity_decrease= 0.0, min_samples_leaf= 1,\n",
        "                                     min_samples_split= 2, min_weight_fraction_leaf= 0.0,\n",
        "                                     n_estimators= 100, oob_score= False, warm_start= False,\n",
        "                                     verbose= 0, n_jobs= 1, random_state=1),\n",
        "    param_grid= {'max_depth': list(range(1, 20, 2)), 'n_estimators': list(range(1, 100, 20))},\n",
        "    scoring= None, refit= 'True',  cv= None, n_jobs= 1, return_train_score= True, error_score= 'raise', verbose= 0\n",
        ")\n",
        "\n",
        "\n",
        "grid_search1.fit(X_train, y_train)"
      ],
      "metadata": {
        "id": "zrAMAkPom-U7",
        "outputId": "d76474e0-362b-4e5a-d2de-dbb733fdea7f",
        "colab": {
          "base_uri": "https://localhost:8080/",
          "height": 117
        }
      },
      "execution_count": 69,
      "outputs": [
        {
          "output_type": "execute_result",
          "data": {
            "text/plain": [
              "GridSearchCV(error_score='raise',\n",
              "             estimator=RandomForestClassifier(criterion='entropy',\n",
              "                                              max_features='log2', n_jobs=1,\n",
              "                                              random_state=1),\n",
              "             n_jobs=1,\n",
              "             param_grid={'max_depth': [1, 3, 5, 7, 9, 11, 13, 15, 17, 19],\n",
              "                         'n_estimators': [1, 21, 41, 61, 81]},\n",
              "             refit='True', return_train_score=True)"
            ],
            "text/html": [
              "<style>#sk-container-id-7 {color: black;}#sk-container-id-7 pre{padding: 0;}#sk-container-id-7 div.sk-toggleable {background-color: white;}#sk-container-id-7 label.sk-toggleable__label {cursor: pointer;display: block;width: 100%;margin-bottom: 0;padding: 0.3em;box-sizing: border-box;text-align: center;}#sk-container-id-7 label.sk-toggleable__label-arrow:before {content: \"▸\";float: left;margin-right: 0.25em;color: #696969;}#sk-container-id-7 label.sk-toggleable__label-arrow:hover:before {color: black;}#sk-container-id-7 div.sk-estimator:hover label.sk-toggleable__label-arrow:before {color: black;}#sk-container-id-7 div.sk-toggleable__content {max-height: 0;max-width: 0;overflow: hidden;text-align: left;background-color: #f0f8ff;}#sk-container-id-7 div.sk-toggleable__content pre {margin: 0.2em;color: black;border-radius: 0.25em;background-color: #f0f8ff;}#sk-container-id-7 input.sk-toggleable__control:checked~div.sk-toggleable__content {max-height: 200px;max-width: 100%;overflow: auto;}#sk-container-id-7 input.sk-toggleable__control:checked~label.sk-toggleable__label-arrow:before {content: \"▾\";}#sk-container-id-7 div.sk-estimator input.sk-toggleable__control:checked~label.sk-toggleable__label {background-color: #d4ebff;}#sk-container-id-7 div.sk-label input.sk-toggleable__control:checked~label.sk-toggleable__label {background-color: #d4ebff;}#sk-container-id-7 input.sk-hidden--visually {border: 0;clip: rect(1px 1px 1px 1px);clip: rect(1px, 1px, 1px, 1px);height: 1px;margin: -1px;overflow: hidden;padding: 0;position: absolute;width: 1px;}#sk-container-id-7 div.sk-estimator {font-family: monospace;background-color: #f0f8ff;border: 1px dotted black;border-radius: 0.25em;box-sizing: border-box;margin-bottom: 0.5em;}#sk-container-id-7 div.sk-estimator:hover {background-color: #d4ebff;}#sk-container-id-7 div.sk-parallel-item::after {content: \"\";width: 100%;border-bottom: 1px solid gray;flex-grow: 1;}#sk-container-id-7 div.sk-label:hover label.sk-toggleable__label {background-color: #d4ebff;}#sk-container-id-7 div.sk-serial::before {content: \"\";position: absolute;border-left: 1px solid gray;box-sizing: border-box;top: 0;bottom: 0;left: 50%;z-index: 0;}#sk-container-id-7 div.sk-serial {display: flex;flex-direction: column;align-items: center;background-color: white;padding-right: 0.2em;padding-left: 0.2em;position: relative;}#sk-container-id-7 div.sk-item {position: relative;z-index: 1;}#sk-container-id-7 div.sk-parallel {display: flex;align-items: stretch;justify-content: center;background-color: white;position: relative;}#sk-container-id-7 div.sk-item::before, #sk-container-id-7 div.sk-parallel-item::before {content: \"\";position: absolute;border-left: 1px solid gray;box-sizing: border-box;top: 0;bottom: 0;left: 50%;z-index: -1;}#sk-container-id-7 div.sk-parallel-item {display: flex;flex-direction: column;z-index: 1;position: relative;background-color: white;}#sk-container-id-7 div.sk-parallel-item:first-child::after {align-self: flex-end;width: 50%;}#sk-container-id-7 div.sk-parallel-item:last-child::after {align-self: flex-start;width: 50%;}#sk-container-id-7 div.sk-parallel-item:only-child::after {width: 0;}#sk-container-id-7 div.sk-dashed-wrapped {border: 1px dashed gray;margin: 0 0.4em 0.5em 0.4em;box-sizing: border-box;padding-bottom: 0.4em;background-color: white;}#sk-container-id-7 div.sk-label label {font-family: monospace;font-weight: bold;display: inline-block;line-height: 1.2em;}#sk-container-id-7 div.sk-label-container {text-align: center;}#sk-container-id-7 div.sk-container {/* jupyter's `normalize.less` sets `[hidden] { display: none; }` but bootstrap.min.css set `[hidden] { display: none !important; }` so we also need the `!important` here to be able to override the default hidden behavior on the sphinx rendered scikit-learn.org. See: https://github.com/scikit-learn/scikit-learn/issues/21755 */display: inline-block !important;position: relative;}#sk-container-id-7 div.sk-text-repr-fallback {display: none;}</style><div id=\"sk-container-id-7\" class=\"sk-top-container\"><div class=\"sk-text-repr-fallback\"><pre>GridSearchCV(error_score=&#x27;raise&#x27;,\n",
              "             estimator=RandomForestClassifier(criterion=&#x27;entropy&#x27;,\n",
              "                                              max_features=&#x27;log2&#x27;, n_jobs=1,\n",
              "                                              random_state=1),\n",
              "             n_jobs=1,\n",
              "             param_grid={&#x27;max_depth&#x27;: [1, 3, 5, 7, 9, 11, 13, 15, 17, 19],\n",
              "                         &#x27;n_estimators&#x27;: [1, 21, 41, 61, 81]},\n",
              "             refit=&#x27;True&#x27;, return_train_score=True)</pre><b>In a Jupyter environment, please rerun this cell to show the HTML representation or trust the notebook. <br />On GitHub, the HTML representation is unable to render, please try loading this page with nbviewer.org.</b></div><div class=\"sk-container\" hidden><div class=\"sk-item sk-dashed-wrapped\"><div class=\"sk-label-container\"><div class=\"sk-label sk-toggleable\"><input class=\"sk-toggleable__control sk-hidden--visually\" id=\"sk-estimator-id-15\" type=\"checkbox\" ><label for=\"sk-estimator-id-15\" class=\"sk-toggleable__label sk-toggleable__label-arrow\">GridSearchCV</label><div class=\"sk-toggleable__content\"><pre>GridSearchCV(error_score=&#x27;raise&#x27;,\n",
              "             estimator=RandomForestClassifier(criterion=&#x27;entropy&#x27;,\n",
              "                                              max_features=&#x27;log2&#x27;, n_jobs=1,\n",
              "                                              random_state=1),\n",
              "             n_jobs=1,\n",
              "             param_grid={&#x27;max_depth&#x27;: [1, 3, 5, 7, 9, 11, 13, 15, 17, 19],\n",
              "                         &#x27;n_estimators&#x27;: [1, 21, 41, 61, 81]},\n",
              "             refit=&#x27;True&#x27;, return_train_score=True)</pre></div></div></div><div class=\"sk-parallel\"><div class=\"sk-parallel-item\"><div class=\"sk-item\"><div class=\"sk-label-container\"><div class=\"sk-label sk-toggleable\"><input class=\"sk-toggleable__control sk-hidden--visually\" id=\"sk-estimator-id-16\" type=\"checkbox\" ><label for=\"sk-estimator-id-16\" class=\"sk-toggleable__label sk-toggleable__label-arrow\">estimator: RandomForestClassifier</label><div class=\"sk-toggleable__content\"><pre>RandomForestClassifier(criterion=&#x27;entropy&#x27;, max_features=&#x27;log2&#x27;, n_jobs=1,\n",
              "                       random_state=1)</pre></div></div></div><div class=\"sk-serial\"><div class=\"sk-item\"><div class=\"sk-estimator sk-toggleable\"><input class=\"sk-toggleable__control sk-hidden--visually\" id=\"sk-estimator-id-17\" type=\"checkbox\" ><label for=\"sk-estimator-id-17\" class=\"sk-toggleable__label sk-toggleable__label-arrow\">RandomForestClassifier</label><div class=\"sk-toggleable__content\"><pre>RandomForestClassifier(criterion=&#x27;entropy&#x27;, max_features=&#x27;log2&#x27;, n_jobs=1,\n",
              "                       random_state=1)</pre></div></div></div></div></div></div></div></div></div></div>"
            ]
          },
          "metadata": {},
          "execution_count": 69
        }
      ]
    },
    {
      "cell_type": "markdown",
      "source": [
        "##Final Random Forest Model"
      ],
      "metadata": {
        "id": "qyJBrKcKRRZ5"
      }
    },
    {
      "cell_type": "code",
      "source": [
        "i= 1\n",
        "RandFor_acc= []\n",
        "kf= StratifiedKFold(n_splits= 5, random_state= 1, shuffle= True)\n",
        "for train_index, test_index in kf.split(X,y):\n",
        "  print('\\n{} of KFold{}'.format(i, kf.n_splits))\n",
        "  xtr, xvl= X.loc[train_index], X.loc[test_index]\n",
        "  ytr, yvl= y[train_index], y[test_index]\n",
        "  RandFor_model= RandomForestClassifier(criterion='entropy', max_depth=5, max_features='log2',\n",
        "                       n_estimators=41, n_jobs=1, random_state=1)\n",
        "  RandFor_model.fit(xtr, ytr)\n",
        "  pred_test= RandFor_model.predict(xvl)\n",
        "  score= metrics.accuracy_score(yvl, pred_test)\n",
        "  RandFor_acc.append(score)\n",
        "  print('accuracy score', score)\n",
        "  i+=1\n",
        "  pred_test= RandFor_model.predict(testm)\n",
        "\n",
        "RandFor_acc= np.array(RandFor_acc)\n",
        "RandFor_accm= RandFor_acc.mean()\n",
        "model_acc.append(RandFor_accm)\n",
        "print(RandFor_accm)"
      ],
      "metadata": {
        "id": "c7YM3xsjQ9jG",
        "outputId": "5405b486-2d02-4989-f533-d8fe01769804",
        "colab": {
          "base_uri": "https://localhost:8080/"
        }
      },
      "execution_count": 70,
      "outputs": [
        {
          "output_type": "stream",
          "name": "stdout",
          "text": [
            "\n",
            "1 of KFold5\n",
            "accuracy score 0.8130081300813008\n",
            "\n",
            "2 of KFold5\n",
            "accuracy score 0.8292682926829268\n",
            "\n",
            "3 of KFold5\n",
            "accuracy score 0.7723577235772358\n",
            "\n",
            "4 of KFold5\n",
            "accuracy score 0.7967479674796748\n",
            "\n",
            "5 of KFold5\n",
            "accuracy score 0.7868852459016393\n",
            "0.7996534719445555\n"
          ]
        }
      ]
    },
    {
      "cell_type": "markdown",
      "source": [
        "##Feature Importance"
      ],
      "metadata": {
        "id": "UKbZLhB2WWE-"
      }
    },
    {
      "cell_type": "code",
      "source": [
        "plt.figure(figsize= (10, 6))\n",
        "imp= pd.Series(RandFor_model.feature_importances_, index= X.columns).sort_values(ascending= False)\n",
        "imp.plot(kind= 'bar', title= 'Feature Importance', color= 'green')\n",
        "plt.ylabel('Feature Importance Score')\n",
        "plt.xlabel('Features/Columns')\n",
        "plt.show()"
      ],
      "metadata": {
        "id": "FYabpcVWWd0R",
        "outputId": "8e95c849-7d50-4605-88e5-701a8e0ab9a5",
        "colab": {
          "base_uri": "https://localhost:8080/",
          "height": 731
        }
      },
      "execution_count": 71,
      "outputs": [
        {
          "output_type": "display_data",
          "data": {
            "text/plain": [
              "<Figure size 1000x600 with 1 Axes>"
            ],
            "image/png": "[encoded data removed]"
          },
          "metadata": {}
        }
      ]
    },
    {
      "cell_type": "markdown",
      "source": [
        "##XGBoost"
      ],
      "metadata": {
        "id": "sRfzHVvoVNXV"
      }
    },
    {
      "cell_type": "code",
      "source": [
        "from xgboost import XGBClassifier\n",
        "\n",
        "i=1\n",
        "kf =StratifiedKFold(n_splits=5, shuffle= True, random_state= 1)\n",
        "for train_index, test_index in kf.split(X,y):\n",
        "  print('\\n{} of KFold{}'.format(i, kf.n_splits))\n",
        "  xtr, xvl= X.loc[train_index], X.loc[test_index]\n",
        "  ytr, yvl= y[train_index], y[test_index]\n",
        "  xgb_model= XGBClassifier(random_state= 1, n_estimators= 55, max_depth= 2)\n",
        "  xgb_model.fit(xtr, ytr)\n",
        "  pred_test_1= xgb_model.predict(xvl)\n",
        "  score_1= metrics.accuracy_score(yvl, pred_test_1)\n",
        "  print('accuracy score', score_1)\n",
        "  i+=1\n",
        "  pred_test= xgb_model.predict(testm)\n"
      ],
      "metadata": {
        "id": "mJ7KTfC8VKR5",
        "outputId": "fcb9dcd5-bdb7-4511-9274-2a1d60621737",
        "colab": {
          "base_uri": "https://localhost:8080/"
        }
      },
      "execution_count": 72,
      "outputs": [
        {
          "output_type": "stream",
          "name": "stdout",
          "text": [
            "\n",
            "1 of KFold5\n",
            "accuracy score 0.8130081300813008\n",
            "\n",
            "2 of KFold5\n",
            "accuracy score 0.8048780487804879\n",
            "\n",
            "3 of KFold5\n",
            "accuracy score 0.7967479674796748\n",
            "\n",
            "4 of KFold5\n",
            "accuracy score 0.7886178861788617\n",
            "\n",
            "5 of KFold5\n",
            "accuracy score 0.7868852459016393\n"
          ]
        }
      ]
    },
    {
      "cell_type": "markdown",
      "source": [
        "##Tunning of XGBoost Hyperparameters"
      ],
      "metadata": {
        "id": "VV8xm2FpW9fp"
      }
    },
    {
      "cell_type": "code",
      "source": [
        "grid_search2= GridSearchCV(\n",
        "    estimator=XGBClassifier(random_state= 1),\n",
        "    param_grid= {'max_depth': list(range(1, 20, 2)), 'n_estimators': list(range(1, 100, 20))},\n",
        "    scoring= None, refit= 'True',  cv= None, n_jobs= 1, return_train_score= True, error_score= 'raise', verbose= 0\n",
        ")\n",
        "\n",
        "grid_search2.fit(X_train, y_train)\n",
        "print(grid_search2.best_params_)"
      ],
      "metadata": {
        "id": "hZX2ha81SfGC",
        "outputId": "be5998b5-d1c2-4ce3-ea26-1078c4aebf0d",
        "colab": {
          "base_uri": "https://localhost:8080/"
        }
      },
      "execution_count": 73,
      "outputs": [
        {
          "output_type": "stream",
          "name": "stdout",
          "text": [
            "{'max_depth': 1, 'n_estimators': 21}\n"
          ]
        }
      ]
    },
    {
      "cell_type": "code",
      "source": [
        "i=1\n",
        "xgb_acc= []\n",
        "kf =StratifiedKFold(n_splits=5, shuffle= True, random_state= 1)\n",
        "for train_index, test_index in kf.split(X,y):\n",
        "  print('\\n{} of KFold{}'.format(i, kf.n_splits))\n",
        "  xtr, xvl= X.loc[train_index], X.loc[test_index]\n",
        "  ytr, yvl= y[train_index], y[test_index]\n",
        "  xgb_model= XGBClassifier(random_state= 1, n_estimators= 61, max_depth=1 )\n",
        "  xgb_model.fit(xtr, ytr)\n",
        "  pred_test_1= xgb_model.predict(xvl)\n",
        "  score_1= metrics.accuracy_score(yvl, pred_test_1)\n",
        "  xgb_acc.append(score_1)\n",
        "  print('accuracy score', score_1)\n",
        "  i+=1\n",
        "  pred_test= xgb_model.predict(testm)\n",
        "\n",
        "xgb_acc= np.array(xgb_acc)\n",
        "xgb_accm= xgb_acc.mean()\n",
        "model_acc.append(xgb_accm)\n",
        "print(xgb_accm)"
      ],
      "metadata": {
        "id": "YY-AJ4lFaKBa",
        "outputId": "c88b09d6-0787-49d9-fbf3-7f22c82fdf05",
        "colab": {
          "base_uri": "https://localhost:8080/"
        }
      },
      "execution_count": 74,
      "outputs": [
        {
          "output_type": "stream",
          "name": "stdout",
          "text": [
            "\n",
            "1 of KFold5\n",
            "accuracy score 0.8048780487804879\n",
            "\n",
            "2 of KFold5\n",
            "accuracy score 0.8211382113821138\n",
            "\n",
            "3 of KFold5\n",
            "accuracy score 0.8048780487804879\n",
            "\n",
            "4 of KFold5\n",
            "accuracy score 0.8048780487804879\n",
            "\n",
            "5 of KFold5\n",
            "accuracy score 0.7868852459016393\n",
            "0.8045315207250432\n"
          ]
        }
      ]
    },
    {
      "cell_type": "code",
      "source": [
        "model= [\"Logistic Regression\", \"Decision Tree\", \"Random Forest\", \"XGBoost\"]\n",
        "mod_df= pd.DataFrame({'Model': model, 'Accuracy': model_acc})\n",
        "mod_df.sort_values(by= 'Accuracy', ascending= True, inplace= True)\n",
        "\n",
        "sns.barplot(x= 'Model', y= 'Accuracy', data= mod_df, color= 'teal', edgecolor= 'black')\n",
        "plt.title('Model Accuracy')\n",
        "plt.xlabel('Model')\n",
        "plt.ylabel('Accuracy')\n",
        "plt.show()"
      ],
      "metadata": {
        "id": "2T-tHBhRcI8j",
        "outputId": "c63a3f71-3e19-4e30-a32c-2cd61f3a2918",
        "colab": {
          "base_uri": "https://localhost:8080/",
          "height": 472
        }
      },
      "execution_count": 78,
      "outputs": [
        {
          "output_type": "display_data",
          "data": {
            "text/plain": [
              "<Figure size 640x480 with 1 Axes>"
            ],
            "image/png": "[encoded data removed]"
          },
          "metadata": {}
        }
      ]
    },
    {
      "cell_type": "code",
      "source": [
        "import joblib"
      ],
      "metadata": {
        "id": "mjUeqpe6yF-Q"
      },
      "execution_count": 79,
      "outputs": []
    },
    {
      "cell_type": "code",
      "source": [
        "joblib.dump(LogReg, \"LogReg.joblib\")\n",
        "joblib.dump(DecTre, \"DecTre.joblib\")\n",
        "joblib.dump(RandFor_model, \"RandFor_model.joblib\")\n",
        "joblib.dump(xgb_model, \"xgb_model.joblib\")"
      ],
      "metadata": {
        "colab": {
          "base_uri": "https://localhost:8080/"
        },
        "id": "IFHyzIe0yJRP",
        "outputId": "8dadaf06-e630-4a74-8672-b25c93044473"
      },
      "execution_count": 80,
      "outputs": [
        {
          "output_type": "execute_result",
          "data": {
            "text/plain": [
              "['xgb_model.joblib']"
            ]
          },
          "metadata": {},
          "execution_count": 80
        }
      ]
    }
  ]
}